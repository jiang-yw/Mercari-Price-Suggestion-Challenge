{
 "cells": [
  {
   "cell_type": "code",
   "execution_count": 2,
   "metadata": {},
   "outputs": [
    {
     "ename": "KeyboardInterrupt",
     "evalue": "",
     "output_type": "error",
     "traceback": [
      "\u001b[1;31m---------------------------------------------------------------------------\u001b[0m",
      "\u001b[1;31mKeyboardInterrupt\u001b[0m                         Traceback (most recent call last)",
      "\u001b[1;32m<ipython-input-2-771e34ac6613>\u001b[0m in \u001b[0;36m<module>\u001b[1;34m()\u001b[0m\n\u001b[0;32m     16\u001b[0m \u001b[1;32mimport\u001b[0m \u001b[0mrandom\u001b[0m\u001b[1;33m\u001b[0m\u001b[0m\n\u001b[0;32m     17\u001b[0m \u001b[0mindex\u001b[0m \u001b[1;33m=\u001b[0m \u001b[1;33m-\u001b[0m\u001b[1;36m1\u001b[0m\u001b[1;33m\u001b[0m\u001b[0m\n\u001b[1;32m---> 18\u001b[1;33m \u001b[1;32mfor\u001b[0m \u001b[0mrow\u001b[0m \u001b[1;32min\u001b[0m \u001b[0mcsvR\u001b[0m\u001b[1;33m:\u001b[0m\u001b[1;33m\u001b[0m\u001b[0m\n\u001b[0m\u001b[0;32m     19\u001b[0m     \u001b[0mindex\u001b[0m\u001b[1;33m+=\u001b[0m\u001b[1;36m1\u001b[0m\u001b[1;33m\u001b[0m\u001b[0m\n\u001b[0;32m     20\u001b[0m     \u001b[1;32mif\u001b[0m\u001b[1;33m(\u001b[0m\u001b[0mindex\u001b[0m \u001b[1;33m<=\u001b[0m \u001b[1;36m0\u001b[0m \u001b[1;32mor\u001b[0m \u001b[0mrandom\u001b[0m\u001b[1;33m.\u001b[0m\u001b[0mrandint\u001b[0m\u001b[1;33m(\u001b[0m\u001b[1;36m0\u001b[0m\u001b[1;33m,\u001b[0m\u001b[1;36m100\u001b[0m\u001b[1;33m)\u001b[0m \u001b[1;33m>\u001b[0m \u001b[1;36m1\u001b[0m\u001b[1;33m)\u001b[0m\u001b[1;33m:\u001b[0m\u001b[1;33m\u001b[0m\u001b[0m\n",
      "\u001b[1;32mc:\\users\\scripter\\appdata\\local\\programs\\python\\python36\\lib\\encodings\\cp1252.py\u001b[0m in \u001b[0;36mdecode\u001b[1;34m(self, input, final)\u001b[0m\n\u001b[0;32m     20\u001b[0m \u001b[1;33m\u001b[0m\u001b[0m\n\u001b[0;32m     21\u001b[0m \u001b[1;32mclass\u001b[0m \u001b[0mIncrementalDecoder\u001b[0m\u001b[1;33m(\u001b[0m\u001b[0mcodecs\u001b[0m\u001b[1;33m.\u001b[0m\u001b[0mIncrementalDecoder\u001b[0m\u001b[1;33m)\u001b[0m\u001b[1;33m:\u001b[0m\u001b[1;33m\u001b[0m\u001b[0m\n\u001b[1;32m---> 22\u001b[1;33m     \u001b[1;32mdef\u001b[0m \u001b[0mdecode\u001b[0m\u001b[1;33m(\u001b[0m\u001b[0mself\u001b[0m\u001b[1;33m,\u001b[0m \u001b[0minput\u001b[0m\u001b[1;33m,\u001b[0m \u001b[0mfinal\u001b[0m\u001b[1;33m=\u001b[0m\u001b[1;32mFalse\u001b[0m\u001b[1;33m)\u001b[0m\u001b[1;33m:\u001b[0m\u001b[1;33m\u001b[0m\u001b[0m\n\u001b[0m\u001b[0;32m     23\u001b[0m         \u001b[1;32mreturn\u001b[0m \u001b[0mcodecs\u001b[0m\u001b[1;33m.\u001b[0m\u001b[0mcharmap_decode\u001b[0m\u001b[1;33m(\u001b[0m\u001b[0minput\u001b[0m\u001b[1;33m,\u001b[0m\u001b[0mself\u001b[0m\u001b[1;33m.\u001b[0m\u001b[0merrors\u001b[0m\u001b[1;33m,\u001b[0m\u001b[0mdecoding_table\u001b[0m\u001b[1;33m)\u001b[0m\u001b[1;33m[\u001b[0m\u001b[1;36m0\u001b[0m\u001b[1;33m]\u001b[0m\u001b[1;33m\u001b[0m\u001b[0m\n\u001b[0;32m     24\u001b[0m \u001b[1;33m\u001b[0m\u001b[0m\n",
      "\u001b[1;31mKeyboardInterrupt\u001b[0m: "
     ]
    }
   ],
   "source": [
    "from bokeh.plotting import figure,show\n",
    "from bokeh.io import output_notebook\n",
    "##导入bokeh可视化库，配置必要设置\n",
    "\n",
    "import csv\n",
    "file = open('train.csv')\n",
    "csvR = csv.reader(file)\n",
    "\n",
    "# csv key is ['id', 'date', 'store_nbr', 'item_nbr', 'onpromotion']\n",
    "id = []\n",
    "date = []\n",
    "store = []\n",
    "item = []\n",
    "promotion = []\n",
    "\n",
    "import random \n",
    "index = -1\n",
    "for row in csvR:\n",
    "    index+=1\n",
    "    if(index <= 0 or random.randint(0,100) > 1):\n",
    "        continue\n",
    "    id.append(int(row[0]))\n",
    "    date.append(int(row[1].replace('-',''))%100)\n",
    "    store.append(int(row[2]))\n",
    "    item.append(int(row[3]))\n",
    "    promotion.append(row[4])\n",
    "file.close()"
   ]
  },
  {
   "cell_type": "code",
   "execution_count": 9,
   "metadata": {
    "scrolled": false
   },
   "outputs": [
    {
     "ename": "TypeError",
     "evalue": "'TextFileReader' object does not support indexing",
     "output_type": "error",
     "traceback": [
      "\u001b[1;31m---------------------------------------------------------------------------\u001b[0m",
      "\u001b[1;31mTypeError\u001b[0m                                 Traceback (most recent call last)",
      "\u001b[1;32m<ipython-input-9-667ae40e71ac>\u001b[0m in \u001b[0;36m<module>\u001b[1;34m()\u001b[0m\n\u001b[0;32m      7\u001b[0m \u001b[1;31m#dateList = [int(d.replace('-','')) for d in dataframe['date']]\u001b[0m\u001b[1;33m\u001b[0m\u001b[1;33m\u001b[0m\u001b[0m\n\u001b[0;32m      8\u001b[0m \u001b[1;31m#dataframe['date'] = dateList\u001b[0m\u001b[1;33m\u001b[0m\u001b[1;33m\u001b[0m\u001b[0m\n\u001b[1;32m----> 9\u001b[1;33m \u001b[0mprint\u001b[0m\u001b[1;33m(\u001b[0m\u001b[0mdataframe\u001b[0m\u001b[1;33m[\u001b[0m\u001b[1;36m1\u001b[0m\u001b[1;33m]\u001b[0m\u001b[1;33m)\u001b[0m\u001b[1;33m\u001b[0m\u001b[0m\n\u001b[0m\u001b[0;32m     10\u001b[0m \u001b[1;33m\u001b[0m\u001b[0m\n\u001b[0;32m     11\u001b[0m \u001b[1;33m\u001b[0m\u001b[0m\n",
      "\u001b[1;31mTypeError\u001b[0m: 'TextFileReader' object does not support indexing"
     ]
    }
   ],
   "source": [
    "import pandas as pd\n",
    "import numpy as np\n",
    "import random\n",
    "\n",
    "dataframe = pd.read_csv('train.csv',chunksize=10000)\n",
    "dataframe.columns = ['id', 'date', 'store', 'item', 'onpromotion']\n",
    "#dateList = [int(d.replace('-','')) for d in dataframe['date']]\n",
    "#dataframe['date'] = dateList\n",
    "\n",
    "\n",
    "\n"
   ]
  },
  {
   "cell_type": "code",
   "execution_count": 42,
   "metadata": {},
   "outputs": [
    {
     "name": "stdout",
     "output_type": "stream",
     "text": [
      "                id      date  store     item  onpromotion\n",
      "3159810  128656850  20170831      1    96995        False\n",
      "3159811  128656851  20170831      1    99197        False\n",
      "3159812  128656852  20170831      1   103501        False\n",
      "3159813  128656853  20170831      1   103520        False\n",
      "3159814  128656854  20170831      1   103665        False\n",
      "3159815  128656855  20170831      1   105574        False\n",
      "3159816  128656856  20170831      1   105575         True\n",
      "3159817  128656857  20170831      1   105576        False\n",
      "3159818  128656858  20170831      1   105577         True\n",
      "3159819  128656859  20170831      1   105693        False\n",
      "3159820  128656860  20170831      1   105737        False\n",
      "3159821  128656861  20170831      1   105857        False\n",
      "3159822  128656862  20170831      1   106716        False\n",
      "3159823  128656863  20170831      1   108079        False\n",
      "3159824  128656864  20170831      1   108634        False\n",
      "3159825  128656865  20170831      1   108696        False\n",
      "3159826  128656866  20170831      1   108698        False\n",
      "3159827  128656867  20170831      1   108701        False\n",
      "3159828  128656868  20170831      1   108786        False\n",
      "3159829  128656869  20170831      1   108797         True\n",
      "3159830  128656870  20170831      1   108831        False\n",
      "3159831  128656871  20170831      1   108833        False\n",
      "3159832  128656872  20170831      1   108862        False\n",
      "3159833  128656873  20170831      1   108952        False\n",
      "3159834  128656874  20170831      1   111223        False\n",
      "3159835  128656875  20170831      1   111397        False\n",
      "3159836  128656876  20170831      1   112830        False\n",
      "3159837  128656877  20170831      1   114778        False\n",
      "3159838  128656878  20170831      1   114790        False\n",
      "3159839  128656879  20170831      1   114799        False\n",
      "...            ...       ...    ...      ...          ...\n",
      "3370434  128867474  20170831     54  2127921        False\n",
      "3370435  128867475  20170831     54  2127992        False\n",
      "3370436  128867476  20170831     54  2128628        False\n",
      "3370437  128867477  20170831     54  2128799        False\n",
      "3370438  128867478  20170831     54  2129334        False\n",
      "3370439  128867479  20170831     54  2129350        False\n",
      "3370440  128867480  20170831     54  2129387        False\n",
      "3370441  128867481  20170831     54  2129515        False\n",
      "3370442  128867482  20170831     54  2129616        False\n",
      "3370443  128867483  20170831     54  2129678        False\n",
      "3370444  128867484  20170831     54  2129786        False\n",
      "3370445  128867485  20170831     54  2129790        False\n",
      "3370446  128867486  20170831     54  2129892        False\n",
      "3370447  128867487  20170831     54  2129994        False\n",
      "3370448  128867488  20170831     54  2130131        False\n",
      "3370449  128867489  20170831     54  2130219        False\n",
      "3370450  128867490  20170831     54  2130265        False\n",
      "3370451  128867491  20170831     54  2130352        False\n",
      "3370452  128867492  20170831     54  2130474        False\n",
      "3370453  128867493  20170831     54  2130521        False\n",
      "3370454  128867494  20170831     54  2130526        False\n",
      "3370455  128867495  20170831     54  2130553        False\n",
      "3370456  128867496  20170831     54  2131010        False\n",
      "3370457  128867497  20170831     54  2131572        False\n",
      "3370458  128867498  20170831     54  2131699        False\n",
      "3370459  128867499  20170831     54  2132163        False\n",
      "3370460  128867500  20170831     54  2132318        False\n",
      "3370461  128867501  20170831     54  2132945        False\n",
      "3370462  128867502  20170831     54  2132957        False\n",
      "3370463  128867503  20170831     54  2134244        False\n",
      "\n",
      "[210654 rows x 5 columns]\n"
     ]
    }
   ],
   "source": [
    "print(dataframe[dataframe['date']%30==1])"
   ]
  },
  {
   "cell_type": "code",
   "execution_count": null,
   "metadata": {},
   "outputs": [],
   "source": [
    "saleNum = {}\n",
    "for i in date:\n",
    "    try:\n",
    "        if saleNum[i] != None:\n",
    "            saleNum[i] += 1\n",
    "    except:\n",
    "        saleNum[i] = 1\n",
    "\n",
    "key = [i for i in saleNum.keys()]\n",
    "value = [saleNum[k] for k in key]\n",
    "###\n",
    "p = figure()\n",
    "p.line(key,value)\n",
    "show(p)"
   ]
  }
 ],
 "metadata": {
  "kernelspec": {
   "display_name": "Python 3",
   "language": "python",
   "name": "python3"
  },
  "language_info": {
   "codemirror_mode": {
    "name": "ipython",
    "version": 3
   },
   "file_extension": ".py",
   "mimetype": "text/x-python",
   "name": "python",
   "nbconvert_exporter": "python",
   "pygments_lexer": "ipython3",
   "version": "3.6.3"
  }
 },
 "nbformat": 4,
 "nbformat_minor": 2
}
