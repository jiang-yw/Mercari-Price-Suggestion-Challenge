{
 "cells": [
  {
   "cell_type": "markdown",
   "metadata": {},
   "source": [
    "### K 折交叉验证\n",
    "\n",
    "输入为 对应的特征，真实预测值，训练模型的类（具备 train 方法和 predict 方法）,K折的折数\n",
    "\n",
    "返回一个 K 折的平均差值\n"
   ]
  },
  {
   "cell_type": "code",
   "execution_count": 86,
   "metadata": {},
   "outputs": [],
   "source": [
    "from bokeh.plotting import figure,show\n",
    "import numpy as np\n",
    "def costFunction(x,y):\n",
    "    if(len(x)!=len(y)):\n",
    "        raise Exception(\"the length of y is not equal the length of x\")\n",
    "        return 0\n",
    "    cost = 0.0\n",
    "    for i in range(0,len(x)):\n",
    "        cost += (x[i] - y[i])**2\n",
    "    cost/=len(x)\n",
    "    return x\n",
    "\n",
    "def KFoldValidation(data = None,trueValue = None,modelTrain = None,KNumber = 10):\n",
    "    ## data : 特征 ，trueValue : 真实的预测值， modelTrain ：训练模型的类  ，KNumber ：K 折验证的 K 值  \n",
    "    if(len(data)!=len(trueValue)):\n",
    "        raise Exception(\"the length of data Y is not equal the length of data X\")\n",
    "        return 0\n",
    "    \n",
    "    if(KNumber<=0):\n",
    "        raise Exception(\"invalid value of f\")\n",
    "        return 0\n",
    "    \n",
    "    dataFold = []\n",
    "    predictFold = []\n",
    "    splitLen = int(len(data)/KNumber)\n",
    "   \n",
    "    for i in range(0,KNumber):\n",
    "        dataFold.append(data[i*splitLen:(i+1)*splitLen])\n",
    "        predictFold.append(trueValue[i*splitLen:(i+1)*splitLen])\n",
    "        \n",
    "    errorValue = 0.0 # K 折训练的所有差值的平均值\n",
    "    plot = figure() # 可视化组件\n",
    "    \n",
    "    for i in range(0,KNumber):\n",
    "        popData = dataFold.pop(i)\n",
    "        popPredict = predictFold.pop(i)\n",
    "        trains = tuple([i for i in dataFold])\n",
    "        predicts = tuple([i for i in predictFold])\n",
    "        model = modelTrain.train(trains, predicts)\n",
    "        error = costFunction(model.predict(popData), popPredict)/KNumber\n",
    "        errorValue += error \n",
    "        plot.vbar(x = i,top = error,bottom = 0,width = 0.3) # 绘制直方图\n",
    "        dataFold.insert(i, popData)\n",
    "        predictFold.insert(i, popPredict)\n",
    "    show(plot) # 绘图\n",
    "    return errorValue\n",
    "        "
   ]
  },
  {
   "cell_type": "markdown",
   "metadata": {},
   "source": [
    "### 下面是一个线性回归模型类的示例"
   ]
  },
  {
   "cell_type": "code",
   "execution_count": 87,
   "metadata": {},
   "outputs": [],
   "source": [
    "import numpy as np\n",
    "\n",
    "class model:\n",
    "    def __init__(self,learningRate = None,iteration = None):\n",
    "        self.x = np.array([])\n",
    "        if(learningRate!=None and learningRate>0):\n",
    "            self.learningRate = learningRate\n",
    "        else:\n",
    "            self.learningRate = 0.001\n",
    "        if(iteration!=None and iteration>0):\n",
    "            self.iteration = iteration\n",
    "        else:\n",
    "            self.iteration = 10000\n",
    "        \n",
    "    def train(self,feature,predict,learningRate = None,iteration=None):\n",
    "        if(len(feature.shape)<=1):\n",
    "            raise Exception('the size of input data shall be [ data amount , feature size]')\n",
    "        else:\n",
    "            self.x = np.random.random([len(feature[0])])\n",
    "            \n",
    "        if(learningRate!=None and learningRate>0):\n",
    "            self.learningRate = learningRate\n",
    "        if(iteration!=None and iteration>0):\n",
    "            self.iteration = iteration\n",
    "            \n",
    "        self.x = self.gredientDecent(feature,predict)\n",
    "        \n",
    "    def gredientDecent(self,feature,predictActual):\n",
    "        for i in range(0,self.iteration):\n",
    "            predict = self.predict(feature[i])[0]\n",
    "            self.x -= self.learningRate * ( predict - predictActual[i] ) * self.x\n",
    "                \n",
    "    def predict(self,feature):\n",
    "        if(len(feature.shape)==1):\n",
    "            if(feature.shape!=self.x.shape):\n",
    "                raise Exception('input feature size error')\n",
    "                return 0\n",
    "            else:\n",
    "                return np.dot(self.x,feature.reshape(len(feature),1))\n",
    "        elif(len(feature.shape)==2):\n",
    "            return np.dot(feature,self.x.reshape(len(self.x),1))\n",
    "        else:\n",
    "            raise Exception('feature size is not correct')\n",
    "            return 0"
   ]
  },
  {
   "cell_type": "markdown",
   "metadata": {},
   "source": [
    "### 下面是一个与 python 异常相关的实现\n",
    "分别为继承了 Exception 异常基类的自定义异常类 error\n",
    "以及在异常抛出后针对不同 exception 类型捕捉后进行的相应不同处理\n",
    "每一个 try 对应了一个 finally （可选），即每次 try 后无论结果如何都会处理的行为"
   ]
  },
  {
   "cell_type": "code",
   "execution_count": 88,
   "metadata": {},
   "outputs": [
    {
     "name": "stdout",
     "output_type": "stream",
     "text": [
      "finally 是无论 try 执行结果如何都会执行的行为\n",
      "外层 finally 处理对应外层 try\n"
     ]
    }
   ],
   "source": [
    "class error(Exception):\n",
    "    def __init__(self,value):\n",
    "        self.value = value\n",
    "    def msg(self):\n",
    "        pass\n",
    "    def __str__(self):\n",
    "        return self.value\n",
    "\n",
    "def raiseError(msg):\n",
    "    pass\n",
    "    #raise error(msg)\n",
    "\n",
    "    \n",
    "def errorRaise(msg):\n",
    "    try:\n",
    "        try:\n",
    "            f = raiseError(msg)\n",
    "        except ConnectionAbortedError:\n",
    "            print('ioerror here')\n",
    "        except IOError:\n",
    "            print('IO error')\n",
    "        except error as e:\n",
    "            print(e)\n",
    "        except:\n",
    "            print('unknown error')\n",
    "        finally:\n",
    "            print('finally 是无论 try 执行结果如何都会执行的行为')\n",
    "    except:\n",
    "        pass\n",
    "    finally:\n",
    "        print('外层 finally 处理对应外层 try')\n",
    "errorRaise('df')"
   ]
  },
  {
   "cell_type": "code",
   "execution_count": 85,
   "metadata": {},
   "outputs": [
    {
     "name": "stdout",
     "output_type": "stream",
     "text": [
      "[array([[1, 1],\n",
      "       [2, 2],\n",
      "       [3, 3]])]\n",
      "[array([[1, 1],\n",
      "       [2, 2],\n",
      "       [3, 3]]), array([[4, 4],\n",
      "       [5, 5],\n",
      "       [6, 6]])]\n",
      "[array([[1, 1],\n",
      "       [2, 2],\n",
      "       [3, 3]]), array([[4, 4],\n",
      "       [5, 5],\n",
      "       [6, 6]]), array([[7, 7],\n",
      "       [8, 8],\n",
      "       [9, 9]])]\n",
      "[[4 4]\n",
      " [5 5]\n",
      " [6 6]\n",
      " [7 7]\n",
      " [8 8]\n",
      " [9 9]]\n",
      "predictActual\n",
      "[[4 5 6]\n",
      " [7 8 9]]\n",
      "predict\n",
      "4.81026905566\n",
      "self.x\n",
      "[ 0.30924268  0.89332459]\n",
      "minus\n"
     ]
    },
    {
     "ename": "ValueError",
     "evalue": "operands could not be broadcast together with shapes (3,) (2,) ",
     "output_type": "error",
     "traceback": [
      "\u001b[1;31m---------------------------------------------------------------------------\u001b[0m",
      "\u001b[1;31mValueError\u001b[0m                                Traceback (most recent call last)",
      "\u001b[1;32m<ipython-input-85-620839a15f9d>\u001b[0m in \u001b[0;36m<module>\u001b[1;34m()\u001b[0m\n\u001b[1;32m----> 1\u001b[1;33m \u001b[0mKFoldValidation\u001b[0m\u001b[1;33m(\u001b[0m\u001b[0mdata\u001b[0m \u001b[1;33m=\u001b[0m \u001b[0mnp\u001b[0m\u001b[1;33m.\u001b[0m\u001b[0marray\u001b[0m\u001b[1;33m(\u001b[0m\u001b[1;33m[\u001b[0m\u001b[1;33m[\u001b[0m\u001b[1;36m1\u001b[0m\u001b[1;33m,\u001b[0m\u001b[1;36m1\u001b[0m\u001b[1;33m]\u001b[0m\u001b[1;33m,\u001b[0m\u001b[1;33m[\u001b[0m\u001b[1;36m2\u001b[0m\u001b[1;33m,\u001b[0m\u001b[1;36m2\u001b[0m\u001b[1;33m]\u001b[0m\u001b[1;33m,\u001b[0m\u001b[1;33m[\u001b[0m\u001b[1;36m3\u001b[0m\u001b[1;33m,\u001b[0m\u001b[1;36m3\u001b[0m\u001b[1;33m]\u001b[0m\u001b[1;33m,\u001b[0m\u001b[1;33m[\u001b[0m\u001b[1;36m4\u001b[0m\u001b[1;33m,\u001b[0m\u001b[1;36m4\u001b[0m\u001b[1;33m]\u001b[0m\u001b[1;33m,\u001b[0m\u001b[1;33m[\u001b[0m\u001b[1;36m5\u001b[0m\u001b[1;33m,\u001b[0m\u001b[1;36m5\u001b[0m\u001b[1;33m]\u001b[0m\u001b[1;33m,\u001b[0m\u001b[1;33m[\u001b[0m\u001b[1;36m6\u001b[0m\u001b[1;33m,\u001b[0m\u001b[1;36m6\u001b[0m\u001b[1;33m]\u001b[0m\u001b[1;33m,\u001b[0m\u001b[1;33m[\u001b[0m\u001b[1;36m7\u001b[0m\u001b[1;33m,\u001b[0m\u001b[1;36m7\u001b[0m\u001b[1;33m]\u001b[0m\u001b[1;33m,\u001b[0m\u001b[1;33m[\u001b[0m\u001b[1;36m8\u001b[0m\u001b[1;33m,\u001b[0m\u001b[1;36m8\u001b[0m\u001b[1;33m]\u001b[0m\u001b[1;33m,\u001b[0m\u001b[1;33m[\u001b[0m\u001b[1;36m9\u001b[0m\u001b[1;33m,\u001b[0m\u001b[1;36m9\u001b[0m\u001b[1;33m]\u001b[0m\u001b[1;33m]\u001b[0m\u001b[1;33m)\u001b[0m\u001b[1;33m,\u001b[0m\u001b[0mtrueValue\u001b[0m \u001b[1;33m=\u001b[0m \u001b[0mnp\u001b[0m\u001b[1;33m.\u001b[0m\u001b[0marray\u001b[0m\u001b[1;33m(\u001b[0m\u001b[1;33m[\u001b[0m\u001b[1;36m1\u001b[0m\u001b[1;33m,\u001b[0m\u001b[1;36m2\u001b[0m\u001b[1;33m,\u001b[0m\u001b[1;36m3\u001b[0m\u001b[1;33m,\u001b[0m\u001b[1;36m4\u001b[0m\u001b[1;33m,\u001b[0m\u001b[1;36m5\u001b[0m\u001b[1;33m,\u001b[0m\u001b[1;36m6\u001b[0m\u001b[1;33m,\u001b[0m\u001b[1;36m7\u001b[0m\u001b[1;33m,\u001b[0m\u001b[1;36m8\u001b[0m\u001b[1;33m,\u001b[0m\u001b[1;36m9\u001b[0m\u001b[1;33m]\u001b[0m\u001b[1;33m)\u001b[0m\u001b[1;33m,\u001b[0m\u001b[0mmodelTrain\u001b[0m \u001b[1;33m=\u001b[0m \u001b[0mmodel\u001b[0m\u001b[1;33m(\u001b[0m\u001b[1;33m)\u001b[0m\u001b[1;33m,\u001b[0m\u001b[0mKNumber\u001b[0m \u001b[1;33m=\u001b[0m \u001b[1;36m3\u001b[0m\u001b[1;33m)\u001b[0m\u001b[1;33m\u001b[0m\u001b[0m\n\u001b[0m",
      "\u001b[1;32m<ipython-input-60-f072c432c690>\u001b[0m in \u001b[0;36mKFoldValidation\u001b[1;34m(data, trueValue, modelTrain, KNumber)\u001b[0m\n\u001b[0;32m     42\u001b[0m             \u001b[0mprint\u001b[0m\u001b[1;33m(\u001b[0m\u001b[0mtrains\u001b[0m\u001b[1;33m)\u001b[0m\u001b[1;33m\u001b[0m\u001b[0m\n\u001b[0;32m     43\u001b[0m             \u001b[0mpredicts\u001b[0m \u001b[1;33m=\u001b[0m \u001b[0mnp\u001b[0m\u001b[1;33m.\u001b[0m\u001b[0mvstack\u001b[0m\u001b[1;33m(\u001b[0m\u001b[1;33m(\u001b[0m\u001b[0mpredicts\u001b[0m\u001b[1;33m,\u001b[0m\u001b[0mpredictFold\u001b[0m\u001b[1;33m[\u001b[0m\u001b[0mi\u001b[0m\u001b[1;33m]\u001b[0m\u001b[1;33m)\u001b[0m\u001b[1;33m)\u001b[0m\u001b[1;33m\u001b[0m\u001b[0m\n\u001b[1;32m---> 44\u001b[1;33m         \u001b[0mmodel\u001b[0m \u001b[1;33m=\u001b[0m \u001b[0mmodelTrain\u001b[0m\u001b[1;33m.\u001b[0m\u001b[0mtrain\u001b[0m\u001b[1;33m(\u001b[0m\u001b[0mtrains\u001b[0m\u001b[1;33m,\u001b[0m \u001b[0mpredicts\u001b[0m\u001b[1;33m)\u001b[0m\u001b[1;33m\u001b[0m\u001b[0m\n\u001b[0m\u001b[0;32m     45\u001b[0m         \u001b[0merror\u001b[0m \u001b[1;33m=\u001b[0m \u001b[0mcostFunction\u001b[0m\u001b[1;33m(\u001b[0m\u001b[0mmodel\u001b[0m\u001b[1;33m.\u001b[0m\u001b[0mpredict\u001b[0m\u001b[1;33m(\u001b[0m\u001b[0mpopData\u001b[0m\u001b[1;33m)\u001b[0m\u001b[1;33m,\u001b[0m \u001b[0mpopPredict\u001b[0m\u001b[1;33m)\u001b[0m\u001b[1;33m/\u001b[0m\u001b[0mKNumber\u001b[0m\u001b[1;33m\u001b[0m\u001b[0m\n\u001b[0;32m     46\u001b[0m         \u001b[0merrorValue\u001b[0m \u001b[1;33m+=\u001b[0m \u001b[0merror\u001b[0m\u001b[1;33m\u001b[0m\u001b[0m\n",
      "\u001b[1;32m<ipython-input-83-af52dbdc0661>\u001b[0m in \u001b[0;36mtrain\u001b[1;34m(self, feature, predict, learningRate, iteration)\u001b[0m\n\u001b[0;32m     24\u001b[0m             \u001b[0mself\u001b[0m\u001b[1;33m.\u001b[0m\u001b[0miteration\u001b[0m \u001b[1;33m=\u001b[0m \u001b[0miteration\u001b[0m\u001b[1;33m\u001b[0m\u001b[0m\n\u001b[0;32m     25\u001b[0m \u001b[1;33m\u001b[0m\u001b[0m\n\u001b[1;32m---> 26\u001b[1;33m         \u001b[0mself\u001b[0m\u001b[1;33m.\u001b[0m\u001b[0mx\u001b[0m \u001b[1;33m=\u001b[0m \u001b[0mself\u001b[0m\u001b[1;33m.\u001b[0m\u001b[0mgredientDecent\u001b[0m\u001b[1;33m(\u001b[0m\u001b[0mfeature\u001b[0m\u001b[1;33m,\u001b[0m\u001b[0mpredict\u001b[0m\u001b[1;33m)\u001b[0m\u001b[1;33m\u001b[0m\u001b[0m\n\u001b[0m\u001b[0;32m     27\u001b[0m \u001b[1;33m\u001b[0m\u001b[0m\n\u001b[0;32m     28\u001b[0m     \u001b[1;32mdef\u001b[0m \u001b[0mgredientDecent\u001b[0m\u001b[1;33m(\u001b[0m\u001b[0mself\u001b[0m\u001b[1;33m,\u001b[0m\u001b[0mfeature\u001b[0m\u001b[1;33m,\u001b[0m\u001b[0mpredictActual\u001b[0m\u001b[1;33m)\u001b[0m\u001b[1;33m:\u001b[0m\u001b[1;33m\u001b[0m\u001b[0m\n",
      "\u001b[1;32m<ipython-input-83-af52dbdc0661>\u001b[0m in \u001b[0;36mgredientDecent\u001b[1;34m(self, feature, predictActual)\u001b[0m\n\u001b[0;32m     36\u001b[0m             \u001b[0mprint\u001b[0m\u001b[1;33m(\u001b[0m\u001b[0mself\u001b[0m\u001b[1;33m.\u001b[0m\u001b[0mx\u001b[0m\u001b[1;33m)\u001b[0m\u001b[1;33m\u001b[0m\u001b[0m\n\u001b[0;32m     37\u001b[0m             \u001b[0mprint\u001b[0m\u001b[1;33m(\u001b[0m\u001b[1;34m'minus'\u001b[0m\u001b[1;33m)\u001b[0m\u001b[1;33m\u001b[0m\u001b[0m\n\u001b[1;32m---> 38\u001b[1;33m             \u001b[0mprint\u001b[0m\u001b[1;33m(\u001b[0m\u001b[0mself\u001b[0m\u001b[1;33m.\u001b[0m\u001b[0mlearningRate\u001b[0m \u001b[1;33m*\u001b[0m \u001b[1;33m(\u001b[0m \u001b[0mpredict\u001b[0m \u001b[1;33m-\u001b[0m \u001b[0mpredictActual\u001b[0m\u001b[1;33m[\u001b[0m\u001b[0mi\u001b[0m\u001b[1;33m]\u001b[0m \u001b[1;33m)\u001b[0m \u001b[1;33m*\u001b[0m \u001b[0mself\u001b[0m\u001b[1;33m.\u001b[0m\u001b[0mx\u001b[0m\u001b[1;33m)\u001b[0m\u001b[1;33m\u001b[0m\u001b[0m\n\u001b[0m\u001b[0;32m     39\u001b[0m             \u001b[0mself\u001b[0m\u001b[1;33m.\u001b[0m\u001b[0mx\u001b[0m \u001b[1;33m-=\u001b[0m \u001b[0mself\u001b[0m\u001b[1;33m.\u001b[0m\u001b[0mlearningRate\u001b[0m \u001b[1;33m*\u001b[0m \u001b[1;33m(\u001b[0m \u001b[0mpredict\u001b[0m \u001b[1;33m-\u001b[0m \u001b[0mpredictActual\u001b[0m\u001b[1;33m[\u001b[0m\u001b[0mi\u001b[0m\u001b[1;33m]\u001b[0m \u001b[1;33m)\u001b[0m \u001b[1;33m*\u001b[0m \u001b[0mself\u001b[0m\u001b[1;33m.\u001b[0m\u001b[0mx\u001b[0m\u001b[1;33m\u001b[0m\u001b[0m\n\u001b[0;32m     40\u001b[0m \u001b[1;33m\u001b[0m\u001b[0m\n",
      "\u001b[1;31mValueError\u001b[0m: operands could not be broadcast together with shapes (3,) (2,) "
     ]
    }
   ],
   "source": [
    "KFoldValidation(data = np.array([[1,1],[2,2],[3,3],[4,4],[5,5],[6,6],[7,7],[8,8],[9,9]]),trueValue = np.array([1,2,3,4,5,6,7,8,9]),modelTrain = model(),KNumber = 3)"
   ]
  },
  {
   "cell_type": "code",
   "execution_count": 82,
   "metadata": {},
   "outputs": [
    {
     "name": "stdout",
     "output_type": "stream",
     "text": [
      "0\n"
     ]
    },
    {
     "data": {
      "text/plain": [
       "[array([], shape=(0, 2), dtype=int32),\n",
       " array([], shape=(0, 2), dtype=int32),\n",
       " array([], shape=(0, 2), dtype=int32),\n",
       " array([], shape=(0, 2), dtype=int32),\n",
       " array([], shape=(0, 2), dtype=int32),\n",
       " array([], shape=(0, 2), dtype=int32),\n",
       " array([], shape=(0, 2), dtype=int32),\n",
       " array([], shape=(0, 2), dtype=int32),\n",
       " array([], shape=(0, 2), dtype=int32),\n",
       " array([], shape=(0, 2), dtype=int32)]"
      ]
     },
     "execution_count": 82,
     "metadata": {},
     "output_type": "execute_result"
    }
   ],
   "source": [
    "data = np.array([[1,1],[2,2],[3,3],[4,4],[5,5]])\n",
    "splitLen = int(len(data)/10)\n",
    "print(splitLen)\n",
    "dataFold = []\n",
    "for i in range(0,10):\n",
    "    dataFold.append(data[i*splitLen:(i+1)*splitLen])\n",
    "dataFold"
   ]
  },
  {
   "cell_type": "code",
   "execution_count": null,
   "metadata": {},
   "outputs": [],
   "source": []
  },
  {
   "cell_type": "code",
   "execution_count": null,
   "metadata": {},
   "outputs": [],
   "source": []
  }
 ],
 "metadata": {
  "kernelspec": {
   "display_name": "Python 3",
   "language": "python",
   "name": "python3"
  },
  "language_info": {
   "codemirror_mode": {
    "name": "ipython",
    "version": 3
   },
   "file_extension": ".py",
   "mimetype": "text/x-python",
   "name": "python",
   "nbconvert_exporter": "python",
   "pygments_lexer": "ipython3",
   "version": "3.6.3"
  }
 },
 "nbformat": 4,
 "nbformat_minor": 2
}
