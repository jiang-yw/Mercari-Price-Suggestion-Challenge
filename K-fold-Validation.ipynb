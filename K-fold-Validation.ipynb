{
 "cells": [
  {
   "cell_type": "markdown",
   "metadata": {},
   "source": [
    "### K 折交叉验证\n",
    "\n",
    "输入为 对应的特征，真实预测值，训练模型的类（具备 train 方法和 predict 方法）,K折的折数\n",
    "\n",
    "返回一个 K 折的平均差值\n"
   ]
  },
  {
   "cell_type": "code",
   "execution_count": 23,
   "metadata": {},
   "outputs": [],
   "source": [
    "from bokeh.plotting import figure,show\n",
    "\n",
    "def costFunction(x,y):\n",
    "    if(len(x)!=len(y)):\n",
    "        print(\"the length of y is not equal the length of x\")\n",
    "        return 0\n",
    "    cost = 0.0\n",
    "    for i in range(0,len(x)):\n",
    "        cost += (x[i] - y[i])**2\n",
    "    cost/=len(x)\n",
    "    return x\n",
    "\n",
    "def KFoldValidation(data = None,trueValue = None,modelTrain = None,KNumber = 10):\n",
    "    ## data : 特征 ，trueValue : 真实的预测值， modelTrain ：训练模型的类  ，KNumber ：K 折验证的 K 值  \n",
    "    if(len(data)!=len(trueValue)):\n",
    "        print(\"the length of data Y is not equal the length of data X\")\n",
    "        return 0\n",
    "    \n",
    "    if(KNumber<=0):\n",
    "        print(\"invalid value of f\")\n",
    "        return 0\n",
    "    \n",
    "    dataFold = []\n",
    "    predictFold = []\n",
    "    splitLen = int(len(data)/KNumber)\n",
    "   \n",
    "    for i in range(0,KNumber):\n",
    "        dataFold.append(data[i*splitLen:(i+1)*splitLen])\n",
    "        predictFold.append(trueValue[i*splitLen:(i+1)*splitLen])\n",
    "    \n",
    "    errorValue = 0.0 # K 折训练的所有差值的平均值\n",
    "    plot = figure() # 可视化组件\n",
    "    \n",
    "    for i in range(0,KNumber):\n",
    "        popData = dataFold.pop(i)\n",
    "        popPredict = predictFold.pop(i)\n",
    "        model = modelTrain.train(dataFold, predictFold)\n",
    "        error = costFunction(model.predict(popData), popPredict)/KNumber\n",
    "        errorValue += error \n",
    "        plot.vbar(x = i,top = error,bottom = 0,width = 0.3) # 绘制直方图\n",
    "        dataFold.insert(i, popData)\n",
    "        predictFold.insert(i, popPredict)\n",
    "    show(plot) # 绘图\n",
    "    return errorValue\n",
    "        "
   ]
  },
  {
   "cell_type": "markdown",
   "metadata": {},
   "source": [
    "### 下面是一个线性回归模型类的示例"
   ]
  },
  {
   "cell_type": "code",
   "execution_count": 36,
   "metadata": {},
   "outputs": [],
   "source": [
    "import numpy as np\n",
    "\n",
    "class model:\n",
    "    def __init__(self,learningRate = None,iteration = None):\n",
    "        self.x = np.array([])\n",
    "        if(learningRate!=None and learningRate>0):\n",
    "            self.learningRate = learningRate\n",
    "        else:\n",
    "            self.learningRate = 0.001\n",
    "        if(iteration!=None and iteration>0):\n",
    "            self.iteration = iteration\n",
    "        else:\n",
    "            self.iteration = 10000\n",
    "        \n",
<<<<<<< HEAD
    "    def train(self,feature,predict,learningRate = None,iteration=None):\n",
=======
    "    def train(self,feature,predict):\n",
>>>>>>> a0ace27f8215d7b52734c348819f4905f2dece89
    "        if(len(feature.shape)<=1):\n",
    "            print('the size of input data shall be more than 1')\n",
    "        if(learningRate!=None and learningRate>0):\n",
    "            self.learningRate = learningRate\n",
    "        if(iteration!=None and iteration>0):\n",
    "            self.iteration = iteration\n",
    "        self.x = gredientDecent(feature,predict)\n",
    "        \n",
    "    def gredientDecent(self,feature,predictActual):\n",
    "        for i in range(0,self.iteration):\n",
    "            predict = self.predict(feature[i])\n",
    "            self.x -= self.learningRate * ( predict - predictActual[i] ) * self.x\n",
    "                \n",
    "    def predict(self,feature):\n",
    "        if(len(feature.shape)==1):\n",
    "            if(feature.shape!=self.x.shape):\n",
    "                print('input feature size error')\n",
    "                return 0\n",
    "            else:\n",
    "                return np.dot(self.x,feature.reshape(len(feature),1))\n",
    "        elif(len(feature.shape)==2):\n",
    "            return np.dot(feature,self.x.reshape(len(self.x),1))\n",
    "        else:\n",
    "            print('feature size is not correct')\n",
    "            return 0"
   ]
  }
 ],
 "metadata": {
  "kernelspec": {
   "display_name": "Python 3",
   "language": "python",
   "name": "python3"
  },
  "language_info": {
   "codemirror_mode": {
    "name": "ipython",
    "version": 3
   },
   "file_extension": ".py",
   "mimetype": "text/x-python",
   "name": "python",
   "nbconvert_exporter": "python",
   "pygments_lexer": "ipython3",
   "version": "3.6.3"
  }
 },
 "nbformat": 4,
 "nbformat_minor": 2
}
